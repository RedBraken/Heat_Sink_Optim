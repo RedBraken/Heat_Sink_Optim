{
 "cells": [
  {
   "cell_type": "code",
   "execution_count": 2,
   "id": "f0934776-75e5-40d0-8d3e-47841a58e235",
   "metadata": {},
   "outputs": [
    {
     "ename": "AttributeError",
     "evalue": "module 'numpy' has no attribute 'preprocessing'",
     "output_type": "error",
     "traceback": [
      "\u001b[1;31m---------------------------------------------------------------------------\u001b[0m",
      "\u001b[1;31mAttributeError\u001b[0m                            Traceback (most recent call last)",
      "Cell \u001b[1;32mIn[2], line 19\u001b[0m\n\u001b[0;32m     16\u001b[0m y \u001b[38;5;241m=\u001b[39m y\u001b[38;5;241m.\u001b[39mreshape(\u001b[38;5;241m-\u001b[39m\u001b[38;5;241m1\u001b[39m,\u001b[38;5;241m1\u001b[39m);\n\u001b[0;32m     17\u001b[0m \u001b[38;5;66;03m#scaler = StandardScaler()\u001b[39;00m\n\u001b[0;32m     18\u001b[0m \u001b[38;5;66;03m#fity =  scaler.fit_transform(y)\u001b[39;00m\n\u001b[1;32m---> 19\u001b[0m X \u001b[38;5;241m=\u001b[39m \u001b[43mnp\u001b[49m\u001b[38;5;241;43m.\u001b[39;49m\u001b[43mpreprocessing\u001b[49m\u001b[38;5;241m.\u001b[39mscale(X_train)\n\u001b[0;32m     20\u001b[0m X_train, X_test, y_train, y_test \u001b[38;5;241m=\u001b[39m train_test_split(X,fity,test_size \u001b[38;5;241m=\u001b[39m \u001b[38;5;241m0.2\u001b[39m,random_state \u001b[38;5;241m=\u001b[39m \u001b[38;5;241m42\u001b[39m)\n\u001b[0;32m     21\u001b[0m k \u001b[38;5;241m=\u001b[39m \u001b[38;5;241m8\u001b[39m\n",
      "File \u001b[1;32m~\\AppData\\Local\\Programs\\Python\\Python312\\Lib\\site-packages\\numpy\\__init__.py:424\u001b[0m, in \u001b[0;36m__getattr__\u001b[1;34m(attr)\u001b[0m\n\u001b[0;32m    421\u001b[0m     \u001b[38;5;28;01mimport\u001b[39;00m \u001b[38;5;21;01mnumpy\u001b[39;00m\u001b[38;5;21;01m.\u001b[39;00m\u001b[38;5;21;01mchar\u001b[39;00m \u001b[38;5;28;01mas\u001b[39;00m \u001b[38;5;21;01mchar\u001b[39;00m\n\u001b[0;32m    422\u001b[0m     \u001b[38;5;28;01mreturn\u001b[39;00m char\u001b[38;5;241m.\u001b[39mchararray\n\u001b[1;32m--> 424\u001b[0m \u001b[38;5;28;01mraise\u001b[39;00m \u001b[38;5;167;01mAttributeError\u001b[39;00m(\u001b[38;5;124m\"\u001b[39m\u001b[38;5;124mmodule \u001b[39m\u001b[38;5;132;01m{!r}\u001b[39;00m\u001b[38;5;124m has no attribute \u001b[39m\u001b[38;5;124m\"\u001b[39m\n\u001b[0;32m    425\u001b[0m                      \u001b[38;5;124m\"\u001b[39m\u001b[38;5;132;01m{!r}\u001b[39;00m\u001b[38;5;124m\"\u001b[39m\u001b[38;5;241m.\u001b[39mformat(\u001b[38;5;18m__name__\u001b[39m, attr))\n",
      "\u001b[1;31mAttributeError\u001b[0m: module 'numpy' has no attribute 'preprocessing'"
     ]
    }
   ],
   "source": [
    "from keras.models import Sequential\n",
    "from keras.layers import Dense\n",
    "import numpy as np\n",
    "from sklearn.model_selection import train_test_split\n",
    "import matplotlib.pyplot as plt\n",
    "import pandas as pd\n",
    "from sklearn.preprocessing import StandardScaler\n",
    "from keras.regularizers import l1\n",
    "from sklearn.model_selection import KFold\n",
    "from sklearn.metrics import mean_absolute_error\n",
    "import keras\n",
    "df = pd.read_csv(\"output_28.csv\")\n",
    "ds = df.values\n",
    "X = ds[:,0:5]\n",
    "Y = ds[:,5]\n",
    "y = np.array(Y)\n",
    "y = y.reshape(-1,1);\n",
    "scaler = StandardScaler()\n",
    "fity =  scaler.fit_transform(x)\n",
    "X = np.preprocessing.scale(X_train)\n",
    "X_train, X_test, y_train, y_test = train_test_split(X,fity,test_size = 0.2,random_state = 42)\n",
    "k = 8\n",
    "kf = KFold(n_splits = k, shuffle = True, random_state = 42)\n",
    "def create_model():\n",
    "    model = Sequential()\n",
    "    model.add(Dense(100, input_dim = 5, activation = \"relu\", activity_regularizer = l1(0.01)))\n",
    "    model.add(Dense(1, activation = \"linear\"))\n",
    "    model.compile(loss = \"mean_squared_error\", optimizer = \"adam\", metrics = [\"mean_absolute_error\"])\n",
    "    return model\n",
    "\n",
    "mae_per_fold = []\n",
    "for fold,(train_index,val_index) in enumerate(kf.split(X_train)):\n",
    "    print(fold+1)\n",
    "    X_train_fold, X_val_fold = X_train[train_index], X_train[val_index]\n",
    "    y_train_fold, y_val_fold = y_train[train_index],y_train[val_index]\n",
    "\n",
    "    model = create_model()\n",
    "\n",
    "    model.fit(X_train,y_train, epochs = 30, batch_size = 5, verbose = 0)\n",
    "\n",
    "    predictions = np.argmax(model.predict(X_val_fold),axis = 1)\n",
    "    mae = mean_absolute_error(y_val_fold,predictions)\n",
    "\n",
    "    mae_per_fold.append(mae)\n",
    "    print(mae)\n",
    "    \n",
    "avg_mae = np.mean(mae_per_fold)\n",
    "print(avg_mae)"
   ]
  },
  {
   "cell_type": "code",
   "execution_count": null,
   "id": "7d650979-7193-460c-ba0f-ec32be376258",
   "metadata": {},
   "outputs": [],
   "source": []
  },
  {
   "cell_type": "code",
   "execution_count": 36,
   "id": "bff8e969-f4c4-45a4-abba-32fc35b4c5ce",
   "metadata": {},
   "outputs": [
    {
     "name": "stderr",
     "output_type": "stream",
     "text": [
      "C:\\Users\\TARAN\\AppData\\Local\\Programs\\Python\\Python312\\Lib\\site-packages\\keras\\src\\layers\\core\\dense.py:87: UserWarning: Do not pass an `input_shape`/`input_dim` argument to a layer. When using Sequential models, prefer using an `Input(shape)` object as the first layer in the model instead.\n",
      "  super().__init__(activity_regularizer=activity_regularizer, **kwargs)\n"
     ]
    },
    {
     "name": "stdout",
     "output_type": "stream",
     "text": [
      "Epoch 1/50\n",
      "\u001b[1m12/12\u001b[0m \u001b[32m━━━━━━━━━━━━━━━━━━━━\u001b[0m\u001b[37m\u001b[0m \u001b[1m3s\u001b[0m 52ms/step - loss: 199.1737 - mean_absolute_error: 12.5458 - val_loss: 164.3709 - val_mean_absolute_error: 10.1654\n",
      "Epoch 2/50\n",
      "\u001b[1m12/12\u001b[0m \u001b[32m━━━━━━━━━━━━━━━━━━━━\u001b[0m\u001b[37m\u001b[0m \u001b[1m0s\u001b[0m 23ms/step - loss: 166.7731 - mean_absolute_error: 10.4514 - val_loss: 164.3228 - val_mean_absolute_error: 10.1326\n",
      "Epoch 3/50\n",
      "\u001b[1m12/12\u001b[0m \u001b[32m━━━━━━━━━━━━━━━━━━━━\u001b[0m\u001b[37m\u001b[0m \u001b[1m0s\u001b[0m 21ms/step - loss: 161.7509 - mean_absolute_error: 10.4093 - val_loss: 159.6208 - val_mean_absolute_error: 9.9964\n",
      "Epoch 4/50\n",
      "\u001b[1m12/12\u001b[0m \u001b[32m━━━━━━━━━━━━━━━━━━━━\u001b[0m\u001b[37m\u001b[0m \u001b[1m0s\u001b[0m 20ms/step - loss: 156.6209 - mean_absolute_error: 10.5131 - val_loss: 157.8919 - val_mean_absolute_error: 9.9914\n",
      "Epoch 5/50\n",
      "\u001b[1m12/12\u001b[0m \u001b[32m━━━━━━━━━━━━━━━━━━━━\u001b[0m\u001b[37m\u001b[0m \u001b[1m0s\u001b[0m 24ms/step - loss: 172.5409 - mean_absolute_error: 11.1363 - val_loss: 155.7542 - val_mean_absolute_error: 9.8737\n",
      "Epoch 6/50\n",
      "\u001b[1m12/12\u001b[0m \u001b[32m━━━━━━━━━━━━━━━━━━━━\u001b[0m\u001b[37m\u001b[0m \u001b[1m0s\u001b[0m 24ms/step - loss: 160.7778 - mean_absolute_error: 10.6372 - val_loss: 152.9708 - val_mean_absolute_error: 9.7714\n",
      "Epoch 7/50\n",
      "\u001b[1m12/12\u001b[0m \u001b[32m━━━━━━━━━━━━━━━━━━━━\u001b[0m\u001b[37m\u001b[0m \u001b[1m1s\u001b[0m 66ms/step - loss: 155.1062 - mean_absolute_error: 10.2885 - val_loss: 151.6947 - val_mean_absolute_error: 9.7204\n",
      "Epoch 8/50\n",
      "\u001b[1m12/12\u001b[0m \u001b[32m━━━━━━━━━━━━━━━━━━━━\u001b[0m\u001b[37m\u001b[0m \u001b[1m1s\u001b[0m 34ms/step - loss: 145.0049 - mean_absolute_error: 9.9854 - val_loss: 149.7461 - val_mean_absolute_error: 9.6904\n",
      "Epoch 9/50\n",
      "\u001b[1m12/12\u001b[0m \u001b[32m━━━━━━━━━━━━━━━━━━━━\u001b[0m\u001b[37m\u001b[0m \u001b[1m0s\u001b[0m 20ms/step - loss: 149.0485 - mean_absolute_error: 10.3136 - val_loss: 148.1821 - val_mean_absolute_error: 9.6195\n",
      "Epoch 10/50\n",
      "\u001b[1m12/12\u001b[0m \u001b[32m━━━━━━━━━━━━━━━━━━━━\u001b[0m\u001b[37m\u001b[0m \u001b[1m0s\u001b[0m 20ms/step - loss: 157.7742 - mean_absolute_error: 10.4076 - val_loss: 147.4330 - val_mean_absolute_error: 9.5585\n",
      "Epoch 11/50\n",
      "\u001b[1m12/12\u001b[0m \u001b[32m━━━━━━━━━━━━━━━━━━━━\u001b[0m\u001b[37m\u001b[0m \u001b[1m0s\u001b[0m 25ms/step - loss: 142.9423 - mean_absolute_error: 9.7493 - val_loss: 145.3539 - val_mean_absolute_error: 9.5027\n",
      "Epoch 12/50\n",
      "\u001b[1m12/12\u001b[0m \u001b[32m━━━━━━━━━━━━━━━━━━━━\u001b[0m\u001b[37m\u001b[0m \u001b[1m0s\u001b[0m 21ms/step - loss: 133.6707 - mean_absolute_error: 9.6684 - val_loss: 143.6467 - val_mean_absolute_error: 9.4916\n",
      "Epoch 13/50\n",
      "\u001b[1m12/12\u001b[0m \u001b[32m━━━━━━━━━━━━━━━━━━━━\u001b[0m\u001b[37m\u001b[0m \u001b[1m0s\u001b[0m 24ms/step - loss: 141.5567 - mean_absolute_error: 9.9455 - val_loss: 142.7161 - val_mean_absolute_error: 9.3930\n",
      "Epoch 14/50\n",
      "\u001b[1m12/12\u001b[0m \u001b[32m━━━━━━━━━━━━━━━━━━━━\u001b[0m\u001b[37m\u001b[0m \u001b[1m1s\u001b[0m 21ms/step - loss: 145.7415 - mean_absolute_error: 10.0862 - val_loss: 140.4750 - val_mean_absolute_error: 9.3739\n",
      "Epoch 15/50\n",
      "\u001b[1m12/12\u001b[0m \u001b[32m━━━━━━━━━━━━━━━━━━━━\u001b[0m\u001b[37m\u001b[0m \u001b[1m0s\u001b[0m 21ms/step - loss: 140.4772 - mean_absolute_error: 9.9027 - val_loss: 138.9996 - val_mean_absolute_error: 9.2798\n",
      "Epoch 16/50\n",
      "\u001b[1m12/12\u001b[0m \u001b[32m━━━━━━━━━━━━━━━━━━━━\u001b[0m\u001b[37m\u001b[0m \u001b[1m0s\u001b[0m 21ms/step - loss: 141.7703 - mean_absolute_error: 9.9310 - val_loss: 137.6133 - val_mean_absolute_error: 9.2231\n",
      "Epoch 17/50\n",
      "\u001b[1m12/12\u001b[0m \u001b[32m━━━━━━━━━━━━━━━━━━━━\u001b[0m\u001b[37m\u001b[0m \u001b[1m0s\u001b[0m 21ms/step - loss: 131.9349 - mean_absolute_error: 9.5862 - val_loss: 136.0845 - val_mean_absolute_error: 9.2408\n",
      "Epoch 18/50\n",
      "\u001b[1m12/12\u001b[0m \u001b[32m━━━━━━━━━━━━━━━━━━━━\u001b[0m\u001b[37m\u001b[0m \u001b[1m0s\u001b[0m 20ms/step - loss: 136.8391 - mean_absolute_error: 9.8326 - val_loss: 134.9697 - val_mean_absolute_error: 9.1119\n",
      "Epoch 19/50\n",
      "\u001b[1m12/12\u001b[0m \u001b[32m━━━━━━━━━━━━━━━━━━━━\u001b[0m\u001b[37m\u001b[0m \u001b[1m0s\u001b[0m 20ms/step - loss: 130.7959 - mean_absolute_error: 9.2552 - val_loss: 133.4278 - val_mean_absolute_error: 9.0558\n",
      "Epoch 20/50\n",
      "\u001b[1m12/12\u001b[0m \u001b[32m━━━━━━━━━━━━━━━━━━━━\u001b[0m\u001b[37m\u001b[0m \u001b[1m0s\u001b[0m 22ms/step - loss: 127.1323 - mean_absolute_error: 9.3436 - val_loss: 131.2750 - val_mean_absolute_error: 9.0207\n",
      "Epoch 21/50\n",
      "\u001b[1m12/12\u001b[0m \u001b[32m━━━━━━━━━━━━━━━━━━━━\u001b[0m\u001b[37m\u001b[0m \u001b[1m0s\u001b[0m 17ms/step - loss: 129.5580 - mean_absolute_error: 9.5722 - val_loss: 129.7556 - val_mean_absolute_error: 8.9532\n",
      "Epoch 22/50\n",
      "\u001b[1m12/12\u001b[0m \u001b[32m━━━━━━━━━━━━━━━━━━━━\u001b[0m\u001b[37m\u001b[0m \u001b[1m0s\u001b[0m 17ms/step - loss: 133.8679 - mean_absolute_error: 9.6124 - val_loss: 129.4156 - val_mean_absolute_error: 8.8881\n",
      "Epoch 23/50\n",
      "\u001b[1m12/12\u001b[0m \u001b[32m━━━━━━━━━━━━━━━━━━━━\u001b[0m\u001b[37m\u001b[0m \u001b[1m0s\u001b[0m 29ms/step - loss: 133.1823 - mean_absolute_error: 9.5352 - val_loss: 126.7344 - val_mean_absolute_error: 8.8517\n",
      "Epoch 24/50\n",
      "\u001b[1m12/12\u001b[0m \u001b[32m━━━━━━━━━━━━━━━━━━━━\u001b[0m\u001b[37m\u001b[0m \u001b[1m1s\u001b[0m 20ms/step - loss: 127.0712 - mean_absolute_error: 9.4411 - val_loss: 125.3903 - val_mean_absolute_error: 8.7683\n",
      "Epoch 25/50\n",
      "\u001b[1m12/12\u001b[0m \u001b[32m━━━━━━━━━━━━━━━━━━━━\u001b[0m\u001b[37m\u001b[0m \u001b[1m0s\u001b[0m 21ms/step - loss: 126.2750 - mean_absolute_error: 9.4515 - val_loss: 124.1089 - val_mean_absolute_error: 8.7087\n",
      "Epoch 26/50\n",
      "\u001b[1m12/12\u001b[0m \u001b[32m━━━━━━━━━━━━━━━━━━━━\u001b[0m\u001b[37m\u001b[0m \u001b[1m1s\u001b[0m 59ms/step - loss: 117.5367 - mean_absolute_error: 8.9328 - val_loss: 122.2966 - val_mean_absolute_error: 8.6829\n",
      "Epoch 27/50\n",
      "\u001b[1m12/12\u001b[0m \u001b[32m━━━━━━━━━━━━━━━━━━━━\u001b[0m\u001b[37m\u001b[0m \u001b[1m1s\u001b[0m 25ms/step - loss: 122.6628 - mean_absolute_error: 9.1901 - val_loss: 121.2562 - val_mean_absolute_error: 8.5962\n",
      "Epoch 28/50\n",
      "\u001b[1m12/12\u001b[0m \u001b[32m━━━━━━━━━━━━━━━━━━━━\u001b[0m\u001b[37m\u001b[0m \u001b[1m0s\u001b[0m 20ms/step - loss: 122.8120 - mean_absolute_error: 9.1902 - val_loss: 119.4164 - val_mean_absolute_error: 8.5681\n",
      "Epoch 29/50\n",
      "\u001b[1m12/12\u001b[0m \u001b[32m━━━━━━━━━━━━━━━━━━━━\u001b[0m\u001b[37m\u001b[0m \u001b[1m0s\u001b[0m 21ms/step - loss: 113.9187 - mean_absolute_error: 8.8329 - val_loss: 118.2125 - val_mean_absolute_error: 8.4811\n",
      "Epoch 30/50\n",
      "\u001b[1m12/12\u001b[0m \u001b[32m━━━━━━━━━━━━━━━━━━━━\u001b[0m\u001b[37m\u001b[0m \u001b[1m0s\u001b[0m 21ms/step - loss: 121.8652 - mean_absolute_error: 9.1297 - val_loss: 116.6476 - val_mean_absolute_error: 8.4278\n",
      "Epoch 31/50\n",
      "\u001b[1m12/12\u001b[0m \u001b[32m━━━━━━━━━━━━━━━━━━━━\u001b[0m\u001b[37m\u001b[0m \u001b[1m0s\u001b[0m 19ms/step - loss: 123.0635 - mean_absolute_error: 9.3239 - val_loss: 115.2700 - val_mean_absolute_error: 8.3662\n",
      "Epoch 32/50\n",
      "\u001b[1m12/12\u001b[0m \u001b[32m━━━━━━━━━━━━━━━━━━━━\u001b[0m\u001b[37m\u001b[0m \u001b[1m0s\u001b[0m 28ms/step - loss: 116.7674 - mean_absolute_error: 8.7956 - val_loss: 114.4365 - val_mean_absolute_error: 8.3097\n",
      "Epoch 33/50\n",
      "\u001b[1m12/12\u001b[0m \u001b[32m━━━━━━━━━━━━━━━━━━━━\u001b[0m\u001b[37m\u001b[0m \u001b[1m1s\u001b[0m 21ms/step - loss: 114.9054 - mean_absolute_error: 8.9560 - val_loss: 112.2106 - val_mean_absolute_error: 8.2972\n",
      "Epoch 34/50\n",
      "\u001b[1m12/12\u001b[0m \u001b[32m━━━━━━━━━━━━━━━━━━━━\u001b[0m\u001b[37m\u001b[0m \u001b[1m0s\u001b[0m 29ms/step - loss: 116.6571 - mean_absolute_error: 9.0422 - val_loss: 111.3896 - val_mean_absolute_error: 8.1925\n",
      "Epoch 35/50\n",
      "\u001b[1m12/12\u001b[0m \u001b[32m━━━━━━━━━━━━━━━━━━━━\u001b[0m\u001b[37m\u001b[0m \u001b[1m0s\u001b[0m 25ms/step - loss: 113.3540 - mean_absolute_error: 8.8032 - val_loss: 109.5658 - val_mean_absolute_error: 8.1378\n",
      "Epoch 36/50\n",
      "\u001b[1m12/12\u001b[0m \u001b[32m━━━━━━━━━━━━━━━━━━━━\u001b[0m\u001b[37m\u001b[0m \u001b[1m0s\u001b[0m 22ms/step - loss: 109.2423 - mean_absolute_error: 8.6223 - val_loss: 108.1137 - val_mean_absolute_error: 8.0862\n",
      "Epoch 37/50\n",
      "\u001b[1m12/12\u001b[0m \u001b[32m━━━━━━━━━━━━━━━━━━━━\u001b[0m\u001b[37m\u001b[0m \u001b[1m1s\u001b[0m 26ms/step - loss: 113.5624 - mean_absolute_error: 8.9562 - val_loss: 106.6138 - val_mean_absolute_error: 8.0383\n",
      "Epoch 38/50\n",
      "\u001b[1m12/12\u001b[0m \u001b[32m━━━━━━━━━━━━━━━━━━━━\u001b[0m\u001b[37m\u001b[0m \u001b[1m0s\u001b[0m 21ms/step - loss: 108.2531 - mean_absolute_error: 8.7541 - val_loss: 105.2501 - val_mean_absolute_error: 7.9751\n",
      "Epoch 39/50\n",
      "\u001b[1m12/12\u001b[0m \u001b[32m━━━━━━━━━━━━━━━━━━━━\u001b[0m\u001b[37m\u001b[0m \u001b[1m0s\u001b[0m 20ms/step - loss: 101.8723 - mean_absolute_error: 8.3770 - val_loss: 103.9316 - val_mean_absolute_error: 7.9036\n",
      "Epoch 40/50\n",
      "\u001b[1m12/12\u001b[0m \u001b[32m━━━━━━━━━━━━━━━━━━━━\u001b[0m\u001b[37m\u001b[0m \u001b[1m0s\u001b[0m 19ms/step - loss: 99.7817 - mean_absolute_error: 8.0338 - val_loss: 102.8798 - val_mean_absolute_error: 7.8360\n",
      "Epoch 41/50\n",
      "\u001b[1m12/12\u001b[0m \u001b[32m━━━━━━━━━━━━━━━━━━━━\u001b[0m\u001b[37m\u001b[0m \u001b[1m0s\u001b[0m 21ms/step - loss: 96.8674 - mean_absolute_error: 8.0848 - val_loss: 100.9660 - val_mean_absolute_error: 7.8621\n",
      "Epoch 42/50\n",
      "\u001b[1m12/12\u001b[0m \u001b[32m━━━━━━━━━━━━━━━━━━━━\u001b[0m\u001b[37m\u001b[0m \u001b[1m0s\u001b[0m 21ms/step - loss: 106.3436 - mean_absolute_error: 8.6746 - val_loss: 100.1126 - val_mean_absolute_error: 7.7150\n",
      "Epoch 43/50\n",
      "\u001b[1m12/12\u001b[0m \u001b[32m━━━━━━━━━━━━━━━━━━━━\u001b[0m\u001b[37m\u001b[0m \u001b[1m0s\u001b[0m 21ms/step - loss: 99.2677 - mean_absolute_error: 8.3007 - val_loss: 98.1998 - val_mean_absolute_error: 7.6973\n",
      "Epoch 44/50\n",
      "\u001b[1m12/12\u001b[0m \u001b[32m━━━━━━━━━━━━━━━━━━━━\u001b[0m\u001b[37m\u001b[0m \u001b[1m0s\u001b[0m 23ms/step - loss: 103.3342 - mean_absolute_error: 8.4146 - val_loss: 97.1479 - val_mean_absolute_error: 7.5979\n",
      "Epoch 45/50\n",
      "\u001b[1m12/12\u001b[0m \u001b[32m━━━━━━━━━━━━━━━━━━━━\u001b[0m\u001b[37m\u001b[0m \u001b[1m0s\u001b[0m 24ms/step - loss: 92.5269 - mean_absolute_error: 7.8032 - val_loss: 95.4633 - val_mean_absolute_error: 7.5859\n",
      "Epoch 46/50\n",
      "\u001b[1m12/12\u001b[0m \u001b[32m━━━━━━━━━━━━━━━━━━━━\u001b[0m\u001b[37m\u001b[0m \u001b[1m1s\u001b[0m 23ms/step - loss: 94.2822 - mean_absolute_error: 8.0735 - val_loss: 94.1258 - val_mean_absolute_error: 7.5239\n",
      "Epoch 47/50\n",
      "\u001b[1m12/12\u001b[0m \u001b[32m━━━━━━━━━━━━━━━━━━━━\u001b[0m\u001b[37m\u001b[0m \u001b[1m0s\u001b[0m 21ms/step - loss: 93.8792 - mean_absolute_error: 8.0823 - val_loss: 92.8340 - val_mean_absolute_error: 7.4462\n",
      "Epoch 48/50\n",
      "\u001b[1m12/12\u001b[0m \u001b[32m━━━━━━━━━━━━━━━━━━━━\u001b[0m\u001b[37m\u001b[0m \u001b[1m0s\u001b[0m 21ms/step - loss: 96.8481 - mean_absolute_error: 8.2640 - val_loss: 91.3518 - val_mean_absolute_error: 7.4607\n",
      "Epoch 49/50\n",
      "\u001b[1m12/12\u001b[0m \u001b[32m━━━━━━━━━━━━━━━━━━━━\u001b[0m\u001b[37m\u001b[0m \u001b[1m0s\u001b[0m 21ms/step - loss: 86.8346 - mean_absolute_error: 7.7333 - val_loss: 90.3260 - val_mean_absolute_error: 7.2957\n",
      "Epoch 50/50\n",
      "\u001b[1m12/12\u001b[0m \u001b[32m━━━━━━━━━━━━━━━━━━━━\u001b[0m\u001b[37m\u001b[0m \u001b[1m1s\u001b[0m 20ms/step - loss: 87.0096 - mean_absolute_error: 7.6835 - val_loss: 88.7092 - val_mean_absolute_error: 7.3583\n",
      "\u001b[1m4/4\u001b[0m \u001b[32m━━━━━━━━━━━━━━━━━━━━\u001b[0m\u001b[37m\u001b[0m \u001b[1m0s\u001b[0m 43ms/step\n"
     ]
    },
    {
     "data": {
      "image/png": "[encoded data removed]",
      "text/plain": [
       "<Figure size 640x480 with 1 Axes>"
      ]
     },
     "metadata": {},
     "output_type": "display_data"
    },
    {
     "data": {
      "image/png": "[encoded data removed]",
      "text/plain": [
       "<Figure size 640x480 with 1 Axes>"
      ]
     },
     "metadata": {},
     "output_type": "display_data"
    }
   ],
   "source": [
    "from keras.models import Sequential\n",
    "from keras.layers import Dense\n",
    "import numpy as np\n",
    "from sklearn.model_selection import train_test_split\n",
    "import matplotlib.pyplot as plt\n",
    "import pandas as pd\n",
    "from sklearn.preprocessing import StandardScaler\n",
    "from keras.regularizers import l1\n",
    "from sklearn.model_selection import KFold\n",
    "from sklearn.metrics import mean_absolute_error\n",
    "import keras\n",
    "df = pd.read_csv(\"output_28.csv\")\n",
    "ds = df.values\n",
    "X = ds[:,0:5]\n",
    "Y = ds[:,5]\n",
    "y = np.array(Y)\n",
    "y = y.reshape(-1,1);\n",
    "X_train, X_test, y_train, y_test = train_test_split(X,y,test_size = 0.2,random_state = 42)\n",
    "X_train, X_val, y_train, y_val = train_test_split(X_train,y_train,test_size = 0.1, random_state = 42)\n",
    "model = Sequential()\n",
    "model.add(Dense(80, input_dim = 5, activation = \"relu\"))\n",
    "model.add(Dense(30, activation = \"relu\"))\n",
    "model.add(Dense(1, activation = \"linear\"))\n",
    "optimizer = keras.optimizers.Adam(learning_rate = 0.0001)\n",
    "model.compile(loss = \"mean_squared_error\", optimizer = optimizer, metrics = [\"mean_absolute_error\"])\n",
    "history = model.fit(X_train,y_train, epochs = 50, batch_size = 32, validation_data = (X_val, y_val))\n",
    "predictions = model.predict(X_test)\n",
    "loss = history.history[\"loss\"]\n",
    "val_loss = history.history[\"val_loss\"]\n",
    "mae = history.history[\"mean_absolute_error\"]\n",
    "val_mae = history.history[\"val_mean_absolute_error\"]\n",
    "plt.plot(loss, label = \"Training loss\")\n",
    "plt.plot(val_loss, label = \"Validation loss\")\n",
    "plt.legend()\n",
    "plt.show()\n",
    "plt.plot(mae, label = \"Training MAE\")\n",
    "plt.plot(val_mae, label = \"Validation MAE\")\n",
    "plt.legend()\n",
    "plt.show()"
   ]
  },
  {
   "cell_type": "code",
   "execution_count": 15,
   "id": "d72fe5f0-b33d-4267-9f9e-daea9eaa785b",
   "metadata": {},
   "outputs": [],
   "source": [
    "\n",
    "#print(\"Predicted values:\")\n",
    "#print(scaler.inverse_transform(predictions).reshape(1,-1))\n",
    "#print(\"Test values:\")\n",
    "#print(scaler.inverse_transform(y_test).reshape(1,-1))"
   ]
  },
  {
   "cell_type": "code",
   "execution_count": 16,
   "id": "31a0a46b-57cf-4837-979d-3aee8320874f",
   "metadata": {},
   "outputs": [
    {
     "data": {
      "text/plain": [
       "'from keras.models import Sequential\\nfrom keras.layers import Dense\\nimport numpy as np\\nfrom sklearn.model_selection import train_test_split\\nimport matplotlib.pyplot as plt\\nimport pandas as pd\\nfrom sklearn.preprocessing import StandardScaler\\ndf = pd.read_csv(\"output_13.csv\")\\nds = df.values\\nX = ds[:,0:4]\\nY = ds[:,4]\\ny = np.array(Y)\\ny = y.reshape(-1,1)\\nscaler = StandardScaler()\\nscaler.fit(X);\\nfitx = scaler.transform(X);\\nfity =  scaler.fit_transform(y)\\nprint(scaler.inverse_transform(fitx))'"
      ]
     },
     "execution_count": 16,
     "metadata": {},
     "output_type": "execute_result"
    }
   ],
   "source": [
    "\"\"\"from keras.models import Sequential\n",
    "from keras.layers import Dense\n",
    "import numpy as np\n",
    "from sklearn.model_selection import train_test_split\n",
    "import matplotlib.pyplot as plt\n",
    "import pandas as pd\n",
    "from sklearn.preprocessing import StandardScaler\n",
    "df = pd.read_csv(\"output_13.csv\")\n",
    "ds = df.values\n",
    "X = ds[:,0:4]\n",
    "Y = ds[:,4]\n",
    "y = np.array(Y)\n",
    "y = y.reshape(-1,1)\n",
    "scaler = StandardScaler()\n",
    "scaler.fit(X);\n",
    "fitx = scaler.transform(X);\n",
    "fity =  scaler.fit_transform(y)\n",
    "print(scaler.inverse_transform(fitx))\"\"\""
   ]
  },
  {
   "cell_type": "code",
   "execution_count": 17,
   "id": "87e8d4b5-f25e-441b-ad78-485a36376d92",
   "metadata": {},
   "outputs": [
    {
     "data": {
      "text/plain": [
       "'from keras.models import Sequential\\nfrom keras.layers import Dense\\nimport numpy as np\\nfrom sklearn.model_selection import train_test_split\\nimport matplotlib.pyplot as plt\\nimport pandas as pd\\nfrom sklearn.preprocessing import StandardScaler\\ndf = pd.read_csv(\"output_16.csv\")\\nds = df.values\\nX = ds[:,0:5]\\nY = ds[:,5]\\nprint(X)\\nprint(Y)'"
      ]
     },
     "execution_count": 17,
     "metadata": {},
     "output_type": "execute_result"
    }
   ],
   "source": [
    "\"\"\"from keras.models import Sequential\n",
    "from keras.layers import Dense\n",
    "import numpy as np\n",
    "from sklearn.model_selection import train_test_split\n",
    "import matplotlib.pyplot as plt\n",
    "import pandas as pd\n",
    "from sklearn.preprocessing import StandardScaler\n",
    "df = pd.read_csv(\"output_16.csv\")\n",
    "ds = df.values\n",
    "X = ds[:,0:5]\n",
    "Y = ds[:,5]\n",
    "print(X)\n",
    "print(Y)\"\"\""
   ]
  },
  {
   "cell_type": "code",
   "execution_count": 20,
   "id": "4945378a-609c-4dee-87d7-ddbf3ff83c75",
   "metadata": {},
   "outputs": [
    {
     "data": {
      "text/plain": [
       "'from keras.models import Sequential\\nfrom keras.layers import Dense\\nimport numpy as np\\nfrom sklearn.model_selection import train_test_split\\nimport matplotlib.pyplot as plt\\nimport pandas as pd\\nfrom sklearn.preprocessing import StandardScaler\\nfrom keras.regularizers import l1\\ndf = pd.read_csv(\"output1.csv\")\\nds = df.values\\nX = ds[:,0:3]\\nY = ds[:,3:6]\\nscaler = StandardScaler()\\nfity =  scaler.fit_transform(Y)\\nX_train, X_test, y_train, y_test = train_test_split(X,fity,test_size = 0.05,random_state = 42)\\nX_train, X_val, y_train, y_val = train_test_split(X_train,y_train,test_size = 0.05, random_state = 42)\\nmodel = Sequential()\\nmodel.add(Dense(20, input_dim = 3, activation = \"relu\", activity_regularizer = l1(0.01)))\\nmodel.add(Dense(3, activation = \"linear\"))\\nmodel.compile(loss = \"mean_squared_error\", optimizer = \"adam\", metrics = [\"mean_absolute_error\", \"mean_squared_error\"])\\nhistory = model.fit(X_train,y_train, epochs = 30, batch_size = 1, validation_data = (X_val, y_val))\\npredictions = model.predict(X_test)\\nloss = history.history[\"loss\"]\\nval_loss = history.history[\"val_loss\"]\\nmae = history.history[\"mean_absolute_error\"]\\nval_mae = history.history[\"val_mean_absolute_error\"]\\nplt.plot(loss, label = \"Training loss\")\\nplt.plot(val_loss, label = \"Validation loss\")\\nplt.legend()\\nplt.show()\\nplt.plot(mae, label = \"Training MAE\")\\nplt.plot(val_mae, label = \"Validation MAE\")\\nplt.legend()\\nplt.show()'"
      ]
     },
     "execution_count": 20,
     "metadata": {},
     "output_type": "execute_result"
    }
   ],
   "source": [
    "\"\"\"from keras.models import Sequential\n",
    "from keras.layers import Dense\n",
    "import numpy as np\n",
    "from sklearn.model_selection import train_test_split\n",
    "import matplotlib.pyplot as plt\n",
    "import pandas as pd\n",
    "from sklearn.preprocessing import StandardScaler\n",
    "from keras.regularizers import l1\n",
    "df = pd.read_csv(\"output1.csv\")\n",
    "ds = df.values\n",
    "X = ds[:,0:3]\n",
    "Y = ds[:,3:6]\n",
    "scaler = StandardScaler()\n",
    "fity =  scaler.fit_transform(Y)\n",
    "X_train, X_test, y_train, y_test = train_test_split(X,fity,test_size = 0.05,random_state = 42)\n",
    "X_train, X_val, y_train, y_val = train_test_split(X_train,y_train,test_size = 0.05, random_state = 42)\n",
    "model = Sequential()\n",
    "model.add(Dense(20, input_dim = 3, activation = \"relu\", activity_regularizer = l1(0.01)))\n",
    "model.add(Dense(3, activation = \"linear\"))\n",
    "model.compile(loss = \"mean_squared_error\", optimizer = \"adam\", metrics = [\"mean_absolute_error\", \"mean_squared_error\"])\n",
    "history = model.fit(X_train,y_train, epochs = 30, batch_size = 1, validation_data = (X_val, y_val))\n",
    "predictions = model.predict(X_test)\n",
    "loss = history.history[\"loss\"]\n",
    "val_loss = history.history[\"val_loss\"]\n",
    "mae = history.history[\"mean_absolute_error\"]\n",
    "val_mae = history.history[\"val_mean_absolute_error\"]\n",
    "plt.plot(loss, label = \"Training loss\")\n",
    "plt.plot(val_loss, label = \"Validation loss\")\n",
    "plt.legend()\n",
    "plt.show()\n",
    "plt.plot(mae, label = \"Training MAE\")\n",
    "plt.plot(val_mae, label = \"Validation MAE\")\n",
    "plt.legend()\n",
    "plt.show()\"\"\""
   ]
  },
  {
   "cell_type": "code",
   "execution_count": 22,
   "id": "fc1584b5-69f1-4561-8955-2136fe10cc9b",
   "metadata": {},
   "outputs": [
    {
     "data": {
      "text/plain": [
       "'from keras.models import Sequential\\nfrom keras.layers import Dense\\nimport numpy as np\\nfrom sklearn.model_selection import train_test_split\\nimport matplotlib.pyplot as plt\\nimport pandas as pd\\nfrom sklearn.preprocessing import StandardScaler\\nfrom keras.regularizers import l1\\ndf = pd.read_csv(\"output1.csv\")\\nds = df.values\\nX = ds[:,0:3]\\nY = ds[:,4]\\nprint(X)'"
      ]
     },
     "execution_count": 22,
     "metadata": {},
     "output_type": "execute_result"
    }
   ],
   "source": [
    "\"\"\"from keras.models import Sequential\n",
    "from keras.layers import Dense\n",
    "import numpy as np\n",
    "from sklearn.model_selection import train_test_split\n",
    "import matplotlib.pyplot as plt\n",
    "import pandas as pd\n",
    "from sklearn.preprocessing import StandardScaler\n",
    "from keras.regularizers import l1\n",
    "df = pd.read_csv(\"output1.csv\")\n",
    "ds = df.values\n",
    "X = ds[:,0:3]\n",
    "Y = ds[:,4]\n",
    "print(X)\"\"\""
   ]
  },
  {
   "cell_type": "code",
   "execution_count": 35,
   "id": "a59811d2-1769-45d7-a3ff-91515961797f",
   "metadata": {},
   "outputs": [
    {
     "name": "stdout",
     "output_type": "stream",
     "text": [
      "Predicted values:\n",
      "[[ 9.543081   4.0264125  9.792574   5.737558   4.786329  10.177591\n",
      "   9.850218   5.2098494  3.8660705 11.26252    1.8743011  6.4259934\n",
      "  10.409271   4.316063   9.734929  10.061934  12.140354   2.6154132\n",
      "   8.685234  10.447937  12.04261   12.0621605  8.006627   9.447334\n",
      "   4.1225095 11.476667  12.179495   6.732649   4.719641   9.027241\n",
      "  11.74963    9.065341  11.068134   6.0523925  1.6351056  9.008195\n",
      "  10.467268   3.9302971  6.696391   3.7021616  9.984901   4.531093\n",
      "  11.944898   6.265122   2.7182968  4.1488204  1.575975   1.945126\n",
      "  10.58334    2.333926   3.994375   6.211739   5.327179  10.486599\n",
      "   6.4080644  3.4398148  5.6166625  2.192925   6.605956   4.1727147\n",
      "  12.120813   7.6704707  8.818041  11.905821   4.1966057  2.9115703\n",
      "  11.281983   3.142682   7.226168  10.119747   9.370777   9.160662\n",
      "   7.9504356  8.194332   8.70419    8.458185   7.78226    3.898259\n",
      "  11.359825  11.554605   5.720223   4.2682805 11.788668   6.0347633\n",
      "   8.780071   4.459415   6.17623   10.563977   8.609468   7.969158\n",
      "   9.92716   11.691103   9.562255   8.837038  10.893404   9.275217\n",
      "   4.36385    4.0904775 11.029272   2.0867412]]\n",
      "Test values:\n",
      "[[ 5.02633033 22.96364273  4.66320743 20.02721089 25.1261367   4.26986445\n",
      "   4.58406082 25.86628928 22.57211034  3.16053178 16.57805173 14.79132191\n",
      "   3.99603206 23.77883535  4.7440492   4.415464    2.51817944 18.99593806\n",
      "   6.58610249  3.95252563  2.58102866  2.56830503  8.28309601  5.17524713\n",
      "  23.1919868   2.98639706  2.49357027 13.04115163 24.93365975  5.89902874\n",
      "   2.78157187  5.82826888  3.32984327 17.36916212 15.48957092  5.93480636\n",
      "   3.93099177 22.73042363 13.23334447 22.16581578  4.51594424 24.40452023\n",
      "   2.64582839 15.83445456 19.32799034 23.26705986 15.15797093 16.87028815\n",
      "   3.80478705 18.05399806 22.88645696 16.20204231 24.3851268   3.90960261\n",
      "  14.90298105 21.48156924 21.19310315 17.54860966 13.72925414 23.34162631\n",
      "   2.53059661  9.3335322   6.30774076  2.67231053 23.41569442 19.96143376\n",
      "   3.1441918  20.65416756 10.75376932  4.34191077  5.29831999  5.65590124\n",
      "   8.4476401   7.76241388  6.54542129  7.0994912   8.96604604 22.65155691\n",
      "   3.07986641  2.92602706 20.18890941 23.63498828  2.75374675 17.50509037\n",
      "   6.38576559 24.19973199 16.45290769  3.82546988  6.7519811   8.39234791\n",
      "   4.59316181  2.82396422  4.997185    6.26916969  3.49189909  5.45728749\n",
      "  23.92087165 23.11639871  3.36503898 17.43232056]]\n"
     ]
    }
   ],
   "source": [
    "print(\"Predicted values:\")\n",
    "print(predictions.reshape(1,-1))\n",
    "print(\"Test values:\")\n",
    "print(y_test.reshape(1,-1))"
   ]
  },
  {
   "cell_type": "code",
   "execution_count": 23,
   "id": "1fb174fd-981e-4a7c-9c16-8bcf59d0e4aa",
   "metadata": {},
   "outputs": [
    {
     "data": {
      "text/plain": [
       "'from keras.models import Sequential\\nfrom keras.layers import Dense\\nimport numpy as np\\nfrom sklearn.model_selection import train_test_split\\nimport matplotlib.pyplot as plt\\nimport pandas as pd\\nfrom sklearn.preprocessing import StandardScaler\\nfrom keras.regularizers import l1\\ndf = pd.read_csv(\"data1.csv\")\\nds = df.values\\nX = ds[:,0:5]\\nY = ds[:,5]\\nprint(Y)'"
      ]
     },
     "execution_count": 23,
     "metadata": {},
     "output_type": "execute_result"
    }
   ],
   "source": [
    "\"\"\"from keras.models import Sequential\n",
    "from keras.layers import Dense\n",
    "import numpy as np\n",
    "from sklearn.model_selection import train_test_split\n",
    "import matplotlib.pyplot as plt\n",
    "import pandas as pd\n",
    "from sklearn.preprocessing import StandardScaler\n",
    "from keras.regularizers import l1\n",
    "df = pd.read_csv(\"data1.csv\")\n",
    "ds = df.values\n",
    "X = ds[:,0:5]\n",
    "Y = ds[:,5]\n",
    "print(Y)\"\"\""
   ]
  },
  {
   "cell_type": "code",
   "execution_count": 24,
   "id": "c3165628-b42b-4df8-a960-c2891d075010",
   "metadata": {},
   "outputs": [],
   "source": [
    "#print(predictions)"
   ]
  },
  {
   "cell_type": "code",
   "execution_count": 25,
   "id": "26d59ead-ac23-4db8-8ff7-d093d787466d",
   "metadata": {},
   "outputs": [
    {
     "data": {
      "text/plain": [
       "'p = model.predict(X_val_fold);\\nprint(scaler.inverse_transform(p).reshape(1,-1))\\nprint(scaler.inverse_transform(y_val_fold).reshape(1,-1))'"
      ]
     },
     "execution_count": 25,
     "metadata": {},
     "output_type": "execute_result"
    }
   ],
   "source": [
    "\"\"\"p = model.predict(X_val_fold);\n",
    "print(scaler.inverse_transform(p).reshape(1,-1))\n",
    "print(scaler.inverse_transform(y_val_fold).reshape(1,-1))\"\"\""
   ]
  },
  {
   "cell_type": "code",
   "execution_count": null,
   "id": "34f2a4f5-b2e9-4fcd-98db-2abda70b2f43",
   "metadata": {},
   "outputs": [],
   "source": []
  }
 ],
 "metadata": {
  "kernelspec": {
   "display_name": "Python 3 (ipykernel)",
   "language": "python",
   "name": "python3"
  },
  "language_info": {
   "codemirror_mode": {
    "name": "ipython",
    "version": 3
   },
   "file_extension": ".py",
   "mimetype": "text/x-python",
   "name": "python",
   "nbconvert_exporter": "python",
   "pygments_lexer": "ipython3",
   "version": "3.12.5"
  }
 },
 "nbformat": 4,
 "nbformat_minor": 5
}
